{
  "cells": [
    {
      "cell_type": "code",
      "execution_count": 39,
      "metadata": {
        "colab": {
          "base_uri": "https://localhost:8080/"
        },
        "id": "gQyzcDmHvFrH",
        "outputId": "abcf9eae-01f0-4244-d5c6-4ef66e8062f9"
      },
      "outputs": [
        {
          "output_type": "stream",
          "name": "stdout",
          "text": [
            "Requirement already satisfied: spacy in /usr/local/lib/python3.7/dist-packages (2.2.4)\n",
            "Requirement already satisfied: setuptools in /usr/local/lib/python3.7/dist-packages (from spacy) (57.4.0)\n",
            "Requirement already satisfied: blis<0.5.0,>=0.4.0 in /usr/local/lib/python3.7/dist-packages (from spacy) (0.4.1)\n",
            "Requirement already satisfied: tqdm<5.0.0,>=4.38.0 in /usr/local/lib/python3.7/dist-packages (from spacy) (4.63.0)\n",
            "Requirement already satisfied: preshed<3.1.0,>=3.0.2 in /usr/local/lib/python3.7/dist-packages (from spacy) (3.0.6)\n",
            "Requirement already satisfied: cymem<2.1.0,>=2.0.2 in /usr/local/lib/python3.7/dist-packages (from spacy) (2.0.6)\n",
            "Requirement already satisfied: wasabi<1.1.0,>=0.4.0 in /usr/local/lib/python3.7/dist-packages (from spacy) (0.9.0)\n",
            "Requirement already satisfied: requests<3.0.0,>=2.13.0 in /usr/local/lib/python3.7/dist-packages (from spacy) (2.23.0)\n",
            "Requirement already satisfied: plac<1.2.0,>=0.9.6 in /usr/local/lib/python3.7/dist-packages (from spacy) (1.1.3)\n",
            "Requirement already satisfied: murmurhash<1.1.0,>=0.28.0 in /usr/local/lib/python3.7/dist-packages (from spacy) (1.0.6)\n",
            "Requirement already satisfied: thinc==7.4.0 in /usr/local/lib/python3.7/dist-packages (from spacy) (7.4.0)\n",
            "Requirement already satisfied: srsly<1.1.0,>=1.0.2 in /usr/local/lib/python3.7/dist-packages (from spacy) (1.0.5)\n",
            "Requirement already satisfied: numpy>=1.15.0 in /usr/local/lib/python3.7/dist-packages (from spacy) (1.21.5)\n",
            "Requirement already satisfied: catalogue<1.1.0,>=0.0.7 in /usr/local/lib/python3.7/dist-packages (from spacy) (1.0.0)\n",
            "Requirement already satisfied: importlib-metadata>=0.20 in /usr/local/lib/python3.7/dist-packages (from catalogue<1.1.0,>=0.0.7->spacy) (4.11.2)\n",
            "Requirement already satisfied: typing-extensions>=3.6.4 in /usr/local/lib/python3.7/dist-packages (from importlib-metadata>=0.20->catalogue<1.1.0,>=0.0.7->spacy) (3.10.0.2)\n",
            "Requirement already satisfied: zipp>=0.5 in /usr/local/lib/python3.7/dist-packages (from importlib-metadata>=0.20->catalogue<1.1.0,>=0.0.7->spacy) (3.7.0)\n",
            "Requirement already satisfied: idna<3,>=2.5 in /usr/local/lib/python3.7/dist-packages (from requests<3.0.0,>=2.13.0->spacy) (2.10)\n",
            "Requirement already satisfied: chardet<4,>=3.0.2 in /usr/local/lib/python3.7/dist-packages (from requests<3.0.0,>=2.13.0->spacy) (3.0.4)\n",
            "Requirement already satisfied: urllib3!=1.25.0,!=1.25.1,<1.26,>=1.21.1 in /usr/local/lib/python3.7/dist-packages (from requests<3.0.0,>=2.13.0->spacy) (1.24.3)\n",
            "Requirement already satisfied: certifi>=2017.4.17 in /usr/local/lib/python3.7/dist-packages (from requests<3.0.0,>=2.13.0->spacy) (2021.10.8)\n"
          ]
        }
      ],
      "source": [
        "pip install spacy"
      ]
    },
    {
      "cell_type": "code",
      "execution_count": 40,
      "metadata": {
        "colab": {
          "base_uri": "https://localhost:8080/"
        },
        "id": "ZAEGz_UyvXZl",
        "outputId": "77c60b2f-b8c7-44d1-81a1-e56941ec19c4"
      },
      "outputs": [
        {
          "output_type": "stream",
          "name": "stdout",
          "text": [
            "Collecting es_core_news_md==2.2.5\n",
            "  Downloading https://github.com/explosion/spacy-models/releases/download/es_core_news_md-2.2.5/es_core_news_md-2.2.5.tar.gz (78.4 MB)\n",
            "\u001b[K     |████████████████████████████████| 78.4 MB 1.4 MB/s \n",
            "\u001b[?25hRequirement already satisfied: spacy>=2.2.2 in /usr/local/lib/python3.7/dist-packages (from es_core_news_md==2.2.5) (2.2.4)\n",
            "Requirement already satisfied: thinc==7.4.0 in /usr/local/lib/python3.7/dist-packages (from spacy>=2.2.2->es_core_news_md==2.2.5) (7.4.0)\n",
            "Requirement already satisfied: blis<0.5.0,>=0.4.0 in /usr/local/lib/python3.7/dist-packages (from spacy>=2.2.2->es_core_news_md==2.2.5) (0.4.1)\n",
            "Requirement already satisfied: wasabi<1.1.0,>=0.4.0 in /usr/local/lib/python3.7/dist-packages (from spacy>=2.2.2->es_core_news_md==2.2.5) (0.9.0)\n",
            "Requirement already satisfied: setuptools in /usr/local/lib/python3.7/dist-packages (from spacy>=2.2.2->es_core_news_md==2.2.5) (57.4.0)\n",
            "Requirement already satisfied: numpy>=1.15.0 in /usr/local/lib/python3.7/dist-packages (from spacy>=2.2.2->es_core_news_md==2.2.5) (1.21.5)\n",
            "Requirement already satisfied: preshed<3.1.0,>=3.0.2 in /usr/local/lib/python3.7/dist-packages (from spacy>=2.2.2->es_core_news_md==2.2.5) (3.0.6)\n",
            "Requirement already satisfied: tqdm<5.0.0,>=4.38.0 in /usr/local/lib/python3.7/dist-packages (from spacy>=2.2.2->es_core_news_md==2.2.5) (4.63.0)\n",
            "Requirement already satisfied: plac<1.2.0,>=0.9.6 in /usr/local/lib/python3.7/dist-packages (from spacy>=2.2.2->es_core_news_md==2.2.5) (1.1.3)\n",
            "Requirement already satisfied: catalogue<1.1.0,>=0.0.7 in /usr/local/lib/python3.7/dist-packages (from spacy>=2.2.2->es_core_news_md==2.2.5) (1.0.0)\n",
            "Requirement already satisfied: srsly<1.1.0,>=1.0.2 in /usr/local/lib/python3.7/dist-packages (from spacy>=2.2.2->es_core_news_md==2.2.5) (1.0.5)\n",
            "Requirement already satisfied: cymem<2.1.0,>=2.0.2 in /usr/local/lib/python3.7/dist-packages (from spacy>=2.2.2->es_core_news_md==2.2.5) (2.0.6)\n",
            "Requirement already satisfied: requests<3.0.0,>=2.13.0 in /usr/local/lib/python3.7/dist-packages (from spacy>=2.2.2->es_core_news_md==2.2.5) (2.23.0)\n",
            "Requirement already satisfied: murmurhash<1.1.0,>=0.28.0 in /usr/local/lib/python3.7/dist-packages (from spacy>=2.2.2->es_core_news_md==2.2.5) (1.0.6)\n",
            "Requirement already satisfied: importlib-metadata>=0.20 in /usr/local/lib/python3.7/dist-packages (from catalogue<1.1.0,>=0.0.7->spacy>=2.2.2->es_core_news_md==2.2.5) (4.11.2)\n",
            "Requirement already satisfied: typing-extensions>=3.6.4 in /usr/local/lib/python3.7/dist-packages (from importlib-metadata>=0.20->catalogue<1.1.0,>=0.0.7->spacy>=2.2.2->es_core_news_md==2.2.5) (3.10.0.2)\n",
            "Requirement already satisfied: zipp>=0.5 in /usr/local/lib/python3.7/dist-packages (from importlib-metadata>=0.20->catalogue<1.1.0,>=0.0.7->spacy>=2.2.2->es_core_news_md==2.2.5) (3.7.0)\n",
            "Requirement already satisfied: certifi>=2017.4.17 in /usr/local/lib/python3.7/dist-packages (from requests<3.0.0,>=2.13.0->spacy>=2.2.2->es_core_news_md==2.2.5) (2021.10.8)\n",
            "Requirement already satisfied: idna<3,>=2.5 in /usr/local/lib/python3.7/dist-packages (from requests<3.0.0,>=2.13.0->spacy>=2.2.2->es_core_news_md==2.2.5) (2.10)\n",
            "Requirement already satisfied: chardet<4,>=3.0.2 in /usr/local/lib/python3.7/dist-packages (from requests<3.0.0,>=2.13.0->spacy>=2.2.2->es_core_news_md==2.2.5) (3.0.4)\n",
            "Requirement already satisfied: urllib3!=1.25.0,!=1.25.1,<1.26,>=1.21.1 in /usr/local/lib/python3.7/dist-packages (from requests<3.0.0,>=2.13.0->spacy>=2.2.2->es_core_news_md==2.2.5) (1.24.3)\n",
            "\u001b[38;5;2m✔ Download and installation successful\u001b[0m\n",
            "You can now load the model via spacy.load('es_core_news_md')\n"
          ]
        }
      ],
      "source": [
        "!python -m spacy download es_core_news_md"
      ]
    },
    {
      "cell_type": "code",
      "execution_count": 41,
      "metadata": {
        "colab": {
          "base_uri": "https://localhost:8080/"
        },
        "id": "wsrxDvD5vn4t",
        "outputId": "4ad3105a-3585-4bb4-a04f-d4000236db8f"
      },
      "outputs": [
        {
          "output_type": "stream",
          "name": "stdout",
          "text": [
            "Collecting en_core_web_md==2.2.5\n",
            "  Downloading https://github.com/explosion/spacy-models/releases/download/en_core_web_md-2.2.5/en_core_web_md-2.2.5.tar.gz (96.4 MB)\n",
            "\u001b[K     |████████████████████████████████| 96.4 MB 85.1 MB/s \n",
            "\u001b[?25hRequirement already satisfied: spacy>=2.2.2 in /usr/local/lib/python3.7/dist-packages (from en_core_web_md==2.2.5) (2.2.4)\n",
            "Requirement already satisfied: blis<0.5.0,>=0.4.0 in /usr/local/lib/python3.7/dist-packages (from spacy>=2.2.2->en_core_web_md==2.2.5) (0.4.1)\n",
            "Requirement already satisfied: murmurhash<1.1.0,>=0.28.0 in /usr/local/lib/python3.7/dist-packages (from spacy>=2.2.2->en_core_web_md==2.2.5) (1.0.6)\n",
            "Requirement already satisfied: wasabi<1.1.0,>=0.4.0 in /usr/local/lib/python3.7/dist-packages (from spacy>=2.2.2->en_core_web_md==2.2.5) (0.9.0)\n",
            "Requirement already satisfied: catalogue<1.1.0,>=0.0.7 in /usr/local/lib/python3.7/dist-packages (from spacy>=2.2.2->en_core_web_md==2.2.5) (1.0.0)\n",
            "Requirement already satisfied: preshed<3.1.0,>=3.0.2 in /usr/local/lib/python3.7/dist-packages (from spacy>=2.2.2->en_core_web_md==2.2.5) (3.0.6)\n",
            "Requirement already satisfied: tqdm<5.0.0,>=4.38.0 in /usr/local/lib/python3.7/dist-packages (from spacy>=2.2.2->en_core_web_md==2.2.5) (4.63.0)\n",
            "Requirement already satisfied: numpy>=1.15.0 in /usr/local/lib/python3.7/dist-packages (from spacy>=2.2.2->en_core_web_md==2.2.5) (1.21.5)\n",
            "Requirement already satisfied: setuptools in /usr/local/lib/python3.7/dist-packages (from spacy>=2.2.2->en_core_web_md==2.2.5) (57.4.0)\n",
            "Requirement already satisfied: thinc==7.4.0 in /usr/local/lib/python3.7/dist-packages (from spacy>=2.2.2->en_core_web_md==2.2.5) (7.4.0)\n",
            "Requirement already satisfied: srsly<1.1.0,>=1.0.2 in /usr/local/lib/python3.7/dist-packages (from spacy>=2.2.2->en_core_web_md==2.2.5) (1.0.5)\n",
            "Requirement already satisfied: cymem<2.1.0,>=2.0.2 in /usr/local/lib/python3.7/dist-packages (from spacy>=2.2.2->en_core_web_md==2.2.5) (2.0.6)\n",
            "Requirement already satisfied: requests<3.0.0,>=2.13.0 in /usr/local/lib/python3.7/dist-packages (from spacy>=2.2.2->en_core_web_md==2.2.5) (2.23.0)\n",
            "Requirement already satisfied: plac<1.2.0,>=0.9.6 in /usr/local/lib/python3.7/dist-packages (from spacy>=2.2.2->en_core_web_md==2.2.5) (1.1.3)\n",
            "Requirement already satisfied: importlib-metadata>=0.20 in /usr/local/lib/python3.7/dist-packages (from catalogue<1.1.0,>=0.0.7->spacy>=2.2.2->en_core_web_md==2.2.5) (4.11.2)\n",
            "Requirement already satisfied: zipp>=0.5 in /usr/local/lib/python3.7/dist-packages (from importlib-metadata>=0.20->catalogue<1.1.0,>=0.0.7->spacy>=2.2.2->en_core_web_md==2.2.5) (3.7.0)\n",
            "Requirement already satisfied: typing-extensions>=3.6.4 in /usr/local/lib/python3.7/dist-packages (from importlib-metadata>=0.20->catalogue<1.1.0,>=0.0.7->spacy>=2.2.2->en_core_web_md==2.2.5) (3.10.0.2)\n",
            "Requirement already satisfied: urllib3!=1.25.0,!=1.25.1,<1.26,>=1.21.1 in /usr/local/lib/python3.7/dist-packages (from requests<3.0.0,>=2.13.0->spacy>=2.2.2->en_core_web_md==2.2.5) (1.24.3)\n",
            "Requirement already satisfied: chardet<4,>=3.0.2 in /usr/local/lib/python3.7/dist-packages (from requests<3.0.0,>=2.13.0->spacy>=2.2.2->en_core_web_md==2.2.5) (3.0.4)\n",
            "Requirement already satisfied: certifi>=2017.4.17 in /usr/local/lib/python3.7/dist-packages (from requests<3.0.0,>=2.13.0->spacy>=2.2.2->en_core_web_md==2.2.5) (2021.10.8)\n",
            "Requirement already satisfied: idna<3,>=2.5 in /usr/local/lib/python3.7/dist-packages (from requests<3.0.0,>=2.13.0->spacy>=2.2.2->en_core_web_md==2.2.5) (2.10)\n",
            "\u001b[38;5;2m✔ Download and installation successful\u001b[0m\n",
            "You can now load the model via spacy.load('en_core_web_md')\n"
          ]
        }
      ],
      "source": [
        "!python -m spacy download en_core_web_md"
      ]
    },
    {
      "cell_type": "code",
      "execution_count": 42,
      "metadata": {
        "id": "Zcf8xlOVw1SF",
        "colab": {
          "base_uri": "https://localhost:8080/"
        },
        "outputId": "49755177-4eda-4664-9a12-b58494e8de0f"
      },
      "outputs": [
        {
          "output_type": "stream",
          "name": "stdout",
          "text": [
            "Collecting es_core_news_sm==2.2.5\n",
            "  Downloading https://github.com/explosion/spacy-models/releases/download/es_core_news_sm-2.2.5/es_core_news_sm-2.2.5.tar.gz (16.2 MB)\n",
            "\u001b[K     |████████████████████████████████| 16.2 MB 14.4 MB/s \n",
            "\u001b[?25hRequirement already satisfied: spacy>=2.2.2 in /usr/local/lib/python3.7/dist-packages (from es_core_news_sm==2.2.5) (2.2.4)\n",
            "Requirement already satisfied: plac<1.2.0,>=0.9.6 in /usr/local/lib/python3.7/dist-packages (from spacy>=2.2.2->es_core_news_sm==2.2.5) (1.1.3)\n",
            "Requirement already satisfied: srsly<1.1.0,>=1.0.2 in /usr/local/lib/python3.7/dist-packages (from spacy>=2.2.2->es_core_news_sm==2.2.5) (1.0.5)\n",
            "Requirement already satisfied: thinc==7.4.0 in /usr/local/lib/python3.7/dist-packages (from spacy>=2.2.2->es_core_news_sm==2.2.5) (7.4.0)\n",
            "Requirement already satisfied: murmurhash<1.1.0,>=0.28.0 in /usr/local/lib/python3.7/dist-packages (from spacy>=2.2.2->es_core_news_sm==2.2.5) (1.0.6)\n",
            "Requirement already satisfied: preshed<3.1.0,>=3.0.2 in /usr/local/lib/python3.7/dist-packages (from spacy>=2.2.2->es_core_news_sm==2.2.5) (3.0.6)\n",
            "Requirement already satisfied: catalogue<1.1.0,>=0.0.7 in /usr/local/lib/python3.7/dist-packages (from spacy>=2.2.2->es_core_news_sm==2.2.5) (1.0.0)\n",
            "Requirement already satisfied: blis<0.5.0,>=0.4.0 in /usr/local/lib/python3.7/dist-packages (from spacy>=2.2.2->es_core_news_sm==2.2.5) (0.4.1)\n",
            "Requirement already satisfied: requests<3.0.0,>=2.13.0 in /usr/local/lib/python3.7/dist-packages (from spacy>=2.2.2->es_core_news_sm==2.2.5) (2.23.0)\n",
            "Requirement already satisfied: wasabi<1.1.0,>=0.4.0 in /usr/local/lib/python3.7/dist-packages (from spacy>=2.2.2->es_core_news_sm==2.2.5) (0.9.0)\n",
            "Requirement already satisfied: numpy>=1.15.0 in /usr/local/lib/python3.7/dist-packages (from spacy>=2.2.2->es_core_news_sm==2.2.5) (1.21.5)\n",
            "Requirement already satisfied: cymem<2.1.0,>=2.0.2 in /usr/local/lib/python3.7/dist-packages (from spacy>=2.2.2->es_core_news_sm==2.2.5) (2.0.6)\n",
            "Requirement already satisfied: setuptools in /usr/local/lib/python3.7/dist-packages (from spacy>=2.2.2->es_core_news_sm==2.2.5) (57.4.0)\n",
            "Requirement already satisfied: tqdm<5.0.0,>=4.38.0 in /usr/local/lib/python3.7/dist-packages (from spacy>=2.2.2->es_core_news_sm==2.2.5) (4.63.0)\n",
            "Requirement already satisfied: importlib-metadata>=0.20 in /usr/local/lib/python3.7/dist-packages (from catalogue<1.1.0,>=0.0.7->spacy>=2.2.2->es_core_news_sm==2.2.5) (4.11.2)\n",
            "Requirement already satisfied: typing-extensions>=3.6.4 in /usr/local/lib/python3.7/dist-packages (from importlib-metadata>=0.20->catalogue<1.1.0,>=0.0.7->spacy>=2.2.2->es_core_news_sm==2.2.5) (3.10.0.2)\n",
            "Requirement already satisfied: zipp>=0.5 in /usr/local/lib/python3.7/dist-packages (from importlib-metadata>=0.20->catalogue<1.1.0,>=0.0.7->spacy>=2.2.2->es_core_news_sm==2.2.5) (3.7.0)\n",
            "Requirement already satisfied: idna<3,>=2.5 in /usr/local/lib/python3.7/dist-packages (from requests<3.0.0,>=2.13.0->spacy>=2.2.2->es_core_news_sm==2.2.5) (2.10)\n",
            "Requirement already satisfied: certifi>=2017.4.17 in /usr/local/lib/python3.7/dist-packages (from requests<3.0.0,>=2.13.0->spacy>=2.2.2->es_core_news_sm==2.2.5) (2021.10.8)\n",
            "Requirement already satisfied: chardet<4,>=3.0.2 in /usr/local/lib/python3.7/dist-packages (from requests<3.0.0,>=2.13.0->spacy>=2.2.2->es_core_news_sm==2.2.5) (3.0.4)\n",
            "Requirement already satisfied: urllib3!=1.25.0,!=1.25.1,<1.26,>=1.21.1 in /usr/local/lib/python3.7/dist-packages (from requests<3.0.0,>=2.13.0->spacy>=2.2.2->es_core_news_sm==2.2.5) (1.24.3)\n",
            "\u001b[38;5;2m✔ Download and installation successful\u001b[0m\n",
            "You can now load the model via spacy.load('es_core_news_sm')\n",
            "\u001b[38;5;2m✔ Linking successful\u001b[0m\n",
            "/usr/local/lib/python3.7/dist-packages/es_core_news_sm -->\n",
            "/usr/local/lib/python3.7/dist-packages/spacy/data/es\n",
            "You can now load the model via spacy.load('es')\n"
          ]
        }
      ],
      "source": [
        "!python -m spacy download es"
      ]
    },
    {
      "cell_type": "code",
      "execution_count": 1,
      "metadata": {
        "id": "EaivQzKm05UU"
      },
      "outputs": [],
      "source": [
        "import math"
      ]
    },
    {
      "cell_type": "markdown",
      "metadata": {
        "id": "k7PqZBBAxLEM"
      },
      "source": [
        "#Limpieza"
      ]
    },
    {
      "cell_type": "code",
      "execution_count": 2,
      "metadata": {
        "id": "pRV64KdMv1Nd"
      },
      "outputs": [],
      "source": [
        "import spacy\n",
        "import nltk\n",
        "from nltk import SnowballStemmer\n",
        "spanishstemmer=SnowballStemmer('spanish')\n",
        "import spacy\n",
        "nlp = spacy.load('es')\n",
        "\n",
        "def limpiar(text):\n",
        "  doc = nlp(text)\n",
        "  tokens = [tok.lemma_.lower() for tok in doc if not tok.is_punct | tok.is_stop | len(tok) < 3]\n",
        "  stems = [spanishstemmer.stem(token) for token in tokens]\n",
        "  return stems"
      ]
    },
    {
      "cell_type": "code",
      "execution_count": 3,
      "metadata": {
        "id": "jPMsWqoVv4I8"
      },
      "outputs": [],
      "source": [
        "def contar_terminos(data):\n",
        "  result=dict.fromkeys(data,0)\n",
        "  for item in data:\n",
        "    if item not in result.keys():\n",
        "      result[item] = 1\n",
        "    else:\n",
        "      result[item] += 1    \n",
        "  return result"
      ]
    },
    {
      "cell_type": "code",
      "execution_count": 4,
      "metadata": {
        "id": "VYyKTmPZv6ON"
      },
      "outputs": [],
      "source": [
        "def ponerId(listaDocuemntos):\n",
        "  id_mas_docuemntos= dict.fromkeys(documentos)\n",
        "  for i in range(len(documentos)):\n",
        "    id_mas_docuemntos[documentos[i]]=i+1\n",
        "  return id_mas_docuemntos"
      ]
    },
    {
      "cell_type": "code",
      "execution_count": 5,
      "metadata": {
        "id": "oLTXzeVFv8q8"
      },
      "outputs": [],
      "source": [
        "from numpy.lib.function_base import append\n",
        "\n",
        "def indexarDocuemntos(documentos):\n",
        "  terminos=[]\n",
        "  terminos_doc=[]\n",
        "  terminos_docuementos = dict.fromkeys(documentos)\n",
        "  for doc in documentos:\n",
        "    terminos_doc.clear\n",
        "    with open(doc+\".txt\", 'r') as file:\n",
        "      data = file.read().replace('\\n', '')\n",
        "      data_limpia = limpiar(data)\n",
        "      contar_terminos\n",
        "      terminos_docuementos[doc]= contar_terminos(data_limpia)\n",
        "      terminos = terminos + data_limpia\n",
        "  terminos = list(set(terminos))\n",
        "\n",
        "  terminos = dict.fromkeys(terminos,[])\n",
        "\n",
        "  lista=[]\n",
        "  for item in terminos:\n",
        "    lista=[]\n",
        "    for termino_doc in terminos_docuementos:\n",
        "      if item in terminos_docuementos[termino_doc]:\n",
        "        lista = lista + [(documentos[termino_doc],terminos_docuementos[termino_doc][item])]\n",
        " \n",
        "    terminos[item]=lista\n",
        "\n",
        "  return terminos"
      ]
    },
    {
      "cell_type": "markdown",
      "metadata": {
        "id": "M-HC_NlhxMq8"
      },
      "source": [
        "#Modelo"
      ]
    },
    {
      "cell_type": "code",
      "execution_count": 6,
      "metadata": {
        "id": "L2gIDhYQxOJs"
      },
      "outputs": [],
      "source": [
        "def encontrar_ci(documentos, documentosRelevantes):\n",
        "  terminos=[]\n",
        "  terminos_documentos = dict.fromkeys(documentos)\n",
        "\n",
        "  for key , value in documentos.items():\n",
        "    \n",
        "    data_limpia = limpiar(value)\n",
        "    print(data_limpia)\n",
        "    terminos_documentos[key]= contar_terminos(data_limpia)\n",
        "    terminos = terminos + data_limpia\n",
        "\n",
        "  terminos = sorted(list(set(terminos)))\n",
        "\n",
        "  dict_terminos_ri = dict.fromkeys(terminos, 0)\n",
        "  dict_terminos_ni_ri = dict.fromkeys(terminos, 0)\n",
        "  dict_terminos_ci = dict.fromkeys(terminos, 0)\n",
        "  for key , value in dict_terminos_ri.items():\n",
        "    for i in range(len(documentos.keys())):\n",
        "      if (key in terminos_documentos[i+1].keys()) and (i<documentosRelevantes):\n",
        "        dict_terminos_ri[key] = dict_terminos_ri[key] + 1\n",
        "      elif (key in terminos_documentos[i+1].keys()) and (i>=documentosRelevantes):\n",
        "        dict_terminos_ni_ri[key]=dict_terminos_ni_ri[key]+1\n",
        "\n",
        "\n",
        "  for key  in dict_terminos_ri.keys():\n",
        "    dict_terminos_ci[key] = math.log10(((dict_terminos_ri[key]+0.5)/(documentosRelevantes-dict_terminos_ri[key]+0.5))/((dict_terminos_ni_ri[key]+0.5)/(len(documentos.keys())-documentosRelevantes-dict_terminos_ni_ri[key]+0.5)))\n",
        "\n",
        "\n",
        "  return dict_terminos_ci,terminos_documentos"
      ]
    },
    {
      "cell_type": "code",
      "execution_count": 7,
      "metadata": {
        "id": "OlpTsn7SxZL0"
      },
      "outputs": [],
      "source": [
        "def modelo_probabilistico(ci, documentosLimpios, consulta):\n",
        "  consulta_arreglo=limpiar(consulta)\n",
        "  similitud = dict.fromkeys(documentosLimpios,0)\n",
        "\n",
        "  for key, value in documentosLimpios.items():\n",
        "    contador = 0\n",
        "    for item in value.keys():\n",
        "      if item in consulta_arreglo:\n",
        "        similitud[key] = similitud[key] + ci[item]\n",
        "        contador = contador+1\n",
        "    if contador==0:\n",
        "      similitud[key]=\"n/a\"\n",
        "  \n",
        "  return similitud"
      ]
    },
    {
      "cell_type": "code",
      "execution_count": 8,
      "metadata": {
        "id": "gttzfSHf0jg8"
      },
      "outputs": [],
      "source": [
        "def ponerId2(listaDocuemntos):\n",
        "  ids = range(1,len(listaDocuemntos)+1)\n",
        "  dict_doc = dict.fromkeys(ids)\n",
        "  for doc in dict_doc.keys():\n",
        "    dict_doc[doc] = listaDocuemntos[doc-1]\n",
        "  return dict_doc"
      ]
    },
    {
      "cell_type": "code",
      "execution_count": 9,
      "metadata": {
        "id": "_5lr_I-Yxi8-"
      },
      "outputs": [],
      "source": [
        "def recuperarDocumentos():\n",
        "  with open(\"doc1.txt\", 'r') as file:\n",
        "      d1 = file.read().replace('\\n', '')\n",
        "  with open(\"doc2.txt\", 'r') as file:\n",
        "      d2 = file.read().replace('\\n', '')\n",
        "  with open(\"doc3.txt\", 'r') as file:\n",
        "      d3 = file.read().replace('\\n', '')\n",
        "  \n",
        "  return d1,d2,d3"
      ]
    },
    {
      "cell_type": "code",
      "execution_count": 10,
      "metadata": {
        "id": "uYzKmKL_2vwV"
      },
      "outputs": [],
      "source": [
        "def consulta_usuario(q1):\n",
        "  q1 = limpiar(q1)\n",
        "  q1 = \" \".join(q1)\n",
        "  similitud = modelo_probabilistico(ci,documentosLimpios,q1)\n",
        "  print(\"Respuesta de la consulta: \",q1,\" =\")\n",
        "  for key, value in similitud.items():\n",
        "    print(\"Sim(q, d%s)= %s\"%(key,value))\n",
        "  for key, value in similitud.items():\n",
        "    if (value==\"n/a\"):\n",
        "      similitud[key]=0\n",
        "  lista = list(similitud.values())\n",
        "  maximo = max(lista)\n",
        "  for key, value in similitud.items():\n",
        "    if value == maximo:\n",
        "      print(f\"El mejor documento es {key} con un valor de {value}\")\n"
      ]
    },
    {
      "cell_type": "markdown",
      "source": [
        "#Ejecución de Modelo"
      ],
      "metadata": {
        "id": "r_J6hAOZktlZ"
      }
    },
    {
      "cell_type": "code",
      "source": [
        "d1,d2,d3 = recuperarDocumentos()\n",
        "docs = [d1,d2,d3]\n",
        "documentos = ponerId2(docs)\n",
        "ci, documentosLimpios = encontrar_ci(documentos, 1)"
      ],
      "metadata": {
        "id": "DkDYsPVMkTBM",
        "outputId": "3dbc9d75-2507-45df-a24a-cab532b77de8",
        "colab": {
          "base_uri": "https://localhost:8080/"
        }
      },
      "execution_count": 11,
      "outputs": [
        {
          "output_type": "stream",
          "name": "stdout",
          "text": [
            "['los', 'mamifer', 'mammali', 'ser', 'uno', 'clas', 'de', 'animal', 'vertebr', 'amniot', 'homeoterm', 'de', 'sangr', 'calent', 'que', 'pos', 'glandul', 'mamari', 'productor', 'de', 'lech', 'con', 'los', 'que', 'aliment', 'los', 'cri', 'la', 'mayor', 'ser', 'vivipar', 'con', 'lo', 'excepcion', 'de', 'lo', 'monotrem', 'ornitorrinc', 'equidn', 'se', 'trat', 'de', 'uno', 'taxon', 'monofilet', 'ser', 'dec', 'tod', 'descend', 'de', 'uno', 'antepas', 'comun', 'que', 'se', 'remont', 'probabl', 'final', 'del', 'triasic', 'hac', 'mas', 'de', '200', 'millon', 'de', 'año', 'pertenec', 'al', 'clad', 'sinaps', 'que', 'inclu', 'lo', 'mal', 'llam', 'reptil', 'mamiferoid', 'uno', 'grup', 'de', 'sinaps', 'que', 'no', 'ser', 'reptil', 'ni', 'tampoc', 'mamifer', 'aunqu', 'estar', 'mas', 'relacion', 'con', 'este', 'ultim', 'que', 'con', 'lo', 'primer', 'com', 'lo', 'pelicosauri', 'lo', 'cinodont', 'se', 'conoc', 'uno', '5486', 'especi', 'actual', 'de', 'los', 'cual', 'ser', 'monotremat', '272', 'ser', 'marsupial', 'el', 'rest', '5209', 'ser', 'placentari']\n",
            "['los', 'mamifer', 'ser', 'uno', 'grup', 'de', 'animal', 'que', 'englob', 'ser', 'muy', 'divers', 'desd', 'lo', 'enorm', 'ballen', 'azul', 'al', 'murcielag', 'aun', 'asir', 'tod', 'ellos', 'compart', 'uno', 'caracterist', 'comun', 'ten', 'uno', 'glandul', 'mamari', 'productor', 'de', 'lech', 'mediant', 'los', 'que', 'aliment', 'los', 'cri', 'tod', 'ser', 'vivipar', 'excepcion', 'del', 'orden', 'de', 'lo', 'monotrem', 'en', 'el', 'que', 'se', 'inclu', 'animal', 'tan', 'excepcional', 'com', 'el', 'ornitorrinc', 'lo', 'equidn', 'tod', 'descend', 'de', 'uno', 'antepas', 'comun', 'que', 'probabl', 'se', 'remont', 'final', 'del', 'triasic', 'hac', 'mas', 'de', '200', 'millon', 'de', 'año']\n",
            "['en', 'lo', 'clasif', 'cientif', 'de', 'lo', 'ser', 'viv', 'lo', 'animal', 'animali', 'metazo', 'metazo', 'constitu', 'uno', 'rein', 'que', 'reun', 'uno', 'ampli', 'grup', 'de', 'organ', 'que', 'ser', 'eucariot', 'heterotrof', 'pluricelul', 'tisul', 'except', 'lo', 'porifer', 'se', 'caracteriz', 'por', 'su', 'ampli', 'capac', 'de', 'movimient', 'por', 'no', 'ten', 'cloroplast', 'aunqu', 'hab', 'excepcion', 'com', 'en', 'el', 'cas', 'de', 'elysi', 'chlorot', 'ni', 'par', 'celul', 'por', 'su', 'desarroll', 'embrionari', 'que', 'atraves', 'uno', 'fas', 'de', 'blastul', 'determin', 'uno', 'plan', 'corporal', 'fij', 'aunqu', 'much', 'especi', 'pod', 'sufr', 'uno', 'metamorfosis', 'posterior', 'com', 'lo', 'artropod', 'los', 'animal', 'form', 'uno', 'grup', 'natural', 'estrech', 'emparent', 'con', 'lo', 'hong', 'rein', 'fungi', 'animali', 'ser', 'unir', 'de', 'lo', 'cinc', 'rein', 'del', 'domini', 'eukaryot', 'el', 'pertenec', 'el', 'ser', 'human', 'la', 'part', 'de', 'lo', 'biolog', 'que', 'estudi', 'lo', 'animal', 'ser', 'lo', 'zoolog']\n"
          ]
        }
      ]
    },
    {
      "cell_type": "code",
      "execution_count": 12,
      "metadata": {
        "id": "vU_cI3pj3gJP",
        "colab": {
          "base_uri": "https://localhost:8080/"
        },
        "outputId": "9409269b-2547-4303-8ded-9694d5da9212"
      },
      "outputs": [
        {
          "output_type": "stream",
          "name": "stdout",
          "text": [
            "Ingrese la consulta que desea\n",
            "seres\n",
            "Respuesta de la consulta:  ser  =\n",
            "Sim(q, d1)= -0.22184874961635637\n",
            "Sim(q, d2)= -0.22184874961635637\n",
            "Sim(q, d3)= -0.22184874961635637\n",
            "El mejor documento es 1 con un valor de -0.22184874961635637\n",
            "El mejor documento es 2 con un valor de -0.22184874961635637\n",
            "El mejor documento es 3 con un valor de -0.22184874961635637\n"
          ]
        }
      ],
      "source": [
        "print(\"Ingrese la consulta que desea\")\n",
        "q1 = input()\n",
        "consulta_usuario(q1)"
      ]
    }
  ],
  "metadata": {
    "colab": {
      "name": "ProyectoRI.ipynb",
      "provenance": []
    },
    "kernelspec": {
      "display_name": "Python 3",
      "language": "python",
      "name": "python3"
    },
    "language_info": {
      "codemirror_mode": {
        "name": "ipython",
        "version": 3
      },
      "file_extension": ".py",
      "mimetype": "text/x-python",
      "name": "python",
      "nbconvert_exporter": "python",
      "pygments_lexer": "ipython3",
      "version": "3.8.8"
    }
  },
  "nbformat": 4,
  "nbformat_minor": 0
}